{
 "cells": [
  {
   "attachments": {},
   "cell_type": "markdown",
   "metadata": {},
   "source": [
    "# Evaluate model performance"
   ]
  },
  {
   "cell_type": "code",
   "execution_count": null,
   "metadata": {},
   "outputs": [],
   "source": [
    "!pip install kaggle"
   ]
  },
  {
   "cell_type": "code",
   "execution_count": 1,
   "metadata": {},
   "outputs": [
    {
     "name": "stdout",
     "output_type": "stream",
     "text": [
      "titanic.zip: Skipping, found more recently modified local copy (use --force to force download)\n"
     ]
    }
   ],
   "source": [
    "!kaggle competitions download -c titanic"
   ]
  },
  {
   "cell_type": "code",
   "execution_count": 6,
   "metadata": {},
   "outputs": [],
   "source": [
    "import shutil\n",
    "shutil.unpack_archive('./titanic.zip', './data/')"
   ]
  },
  {
   "cell_type": "code",
   "execution_count": 3,
   "metadata": {},
   "outputs": [
    {
     "name": "stdout",
     "output_type": "stream",
     "text": [
      "Processing c:\\users\\diego\\documents\\git\\yet-another-titanic-project\\titanictraining\n",
      "  Installing build dependencies: started\n",
      "  Installing build dependencies: finished with status 'done'\n",
      "  Getting requirements to build wheel: started\n",
      "  Getting requirements to build wheel: finished with status 'done'\n",
      "  Installing backend dependencies: started\n",
      "  Installing backend dependencies: finished with status 'done'\n",
      "  Preparing metadata (pyproject.toml): started\n",
      "  Preparing metadata (pyproject.toml): finished with status 'done'\n",
      "Requirement already satisfied: pytest in c:\\users\\diego\\anaconda3\\envs\\tmf_env\\lib\\site-packages (from titanic==0.1.0) (7.2.1)\n",
      "Requirement already satisfied: pyyaml in c:\\users\\diego\\anaconda3\\envs\\tmf_env\\lib\\site-packages (from titanic==0.1.0) (6.0)\n",
      "Requirement already satisfied: pandera in c:\\users\\diego\\anaconda3\\envs\\tmf_env\\lib\\site-packages (from titanic==0.1.0) (0.15.1)\n",
      "Requirement already satisfied: typer in c:\\users\\diego\\anaconda3\\envs\\tmf_env\\lib\\site-packages (from titanic==0.1.0) (0.4.2)\n",
      "Requirement already satisfied: rich in c:\\users\\diego\\anaconda3\\envs\\tmf_env\\lib\\site-packages (from titanic==0.1.0) (13.3.5)\n",
      "Requirement already satisfied: scikit-learn in c:\\users\\diego\\anaconda3\\envs\\tmf_env\\lib\\site-packages (from titanic==0.1.0) (1.1.0)\n",
      "Requirement already satisfied: pandas in c:\\users\\diego\\anaconda3\\envs\\tmf_env\\lib\\site-packages (from titanic==0.1.0) (1.5.2)\n",
      "Requirement already satisfied: numpy in c:\\users\\diego\\anaconda3\\envs\\tmf_env\\lib\\site-packages (from titanic==0.1.0) (1.24.3)\n",
      "Requirement already satisfied: python-dateutil>=2.8.1 in c:\\users\\diego\\anaconda3\\envs\\tmf_env\\lib\\site-packages (from pandas->titanic==0.1.0) (2.8.2)\n",
      "Requirement already satisfied: pytz>=2020.1 in c:\\users\\diego\\anaconda3\\envs\\tmf_env\\lib\\site-packages (from pandas->titanic==0.1.0) (2023.3)\n",
      "Requirement already satisfied: packaging>=20.0 in c:\\users\\diego\\anaconda3\\envs\\tmf_env\\lib\\site-packages (from pandera->titanic==0.1.0) (23.1)\n",
      "Requirement already satisfied: pydantic in c:\\users\\diego\\anaconda3\\envs\\tmf_env\\lib\\site-packages (from pandera->titanic==0.1.0) (1.9.2)\n",
      "Requirement already satisfied: wrapt in c:\\users\\diego\\anaconda3\\envs\\tmf_env\\lib\\site-packages (from pandera->titanic==0.1.0) (1.15.0)\n",
      "Requirement already satisfied: typeguard>=3.0.2 in c:\\users\\diego\\anaconda3\\envs\\tmf_env\\lib\\site-packages (from pandera->titanic==0.1.0) (4.0.0)\n",
      "Requirement already satisfied: multimethod in c:\\users\\diego\\anaconda3\\envs\\tmf_env\\lib\\site-packages (from pandera->titanic==0.1.0) (1.9.1)\n",
      "Requirement already satisfied: typing-inspect>=0.6.0 in c:\\users\\diego\\anaconda3\\envs\\tmf_env\\lib\\site-packages (from pandera->titanic==0.1.0) (0.9.0)\n",
      "Requirement already satisfied: pluggy<2.0,>=0.12 in c:\\users\\diego\\anaconda3\\envs\\tmf_env\\lib\\site-packages (from pytest->titanic==0.1.0) (1.0.0)\n",
      "Requirement already satisfied: tomli>=1.0.0 in c:\\users\\diego\\anaconda3\\envs\\tmf_env\\lib\\site-packages (from pytest->titanic==0.1.0) (2.0.1)\n",
      "Requirement already satisfied: colorama in c:\\users\\diego\\anaconda3\\envs\\tmf_env\\lib\\site-packages (from pytest->titanic==0.1.0) (0.4.6)\n",
      "Requirement already satisfied: exceptiongroup>=1.0.0rc8 in c:\\users\\diego\\anaconda3\\envs\\tmf_env\\lib\\site-packages (from pytest->titanic==0.1.0) (1.1.1)\n",
      "Requirement already satisfied: iniconfig in c:\\users\\diego\\anaconda3\\envs\\tmf_env\\lib\\site-packages (from pytest->titanic==0.1.0) (2.0.0)\n",
      "Requirement already satisfied: attrs>=19.2.0 in c:\\users\\diego\\anaconda3\\envs\\tmf_env\\lib\\site-packages (from pytest->titanic==0.1.0) (22.1.0)\n",
      "Requirement already satisfied: pygments<3.0.0,>=2.13.0 in c:\\users\\diego\\anaconda3\\envs\\tmf_env\\lib\\site-packages (from rich->titanic==0.1.0) (2.15.1)\n",
      "Requirement already satisfied: markdown-it-py<3.0.0,>=2.2.0 in c:\\users\\diego\\anaconda3\\envs\\tmf_env\\lib\\site-packages (from rich->titanic==0.1.0) (2.2.0)\n",
      "Requirement already satisfied: threadpoolctl>=2.0.0 in c:\\users\\diego\\anaconda3\\envs\\tmf_env\\lib\\site-packages (from scikit-learn->titanic==0.1.0) (3.1.0)\n",
      "Requirement already satisfied: scipy>=1.3.2 in c:\\users\\diego\\anaconda3\\envs\\tmf_env\\lib\\site-packages (from scikit-learn->titanic==0.1.0) (1.10.1)\n",
      "Requirement already satisfied: joblib>=1.0.0 in c:\\users\\diego\\anaconda3\\envs\\tmf_env\\lib\\site-packages (from scikit-learn->titanic==0.1.0) (1.2.0)\n",
      "Requirement already satisfied: click<9.0.0,>=7.1.1 in c:\\users\\diego\\anaconda3\\envs\\tmf_env\\lib\\site-packages (from typer->titanic==0.1.0) (8.1.3)\n",
      "Requirement already satisfied: mdurl~=0.1 in c:\\users\\diego\\anaconda3\\envs\\tmf_env\\lib\\site-packages (from markdown-it-py<3.0.0,>=2.2.0->rich->titanic==0.1.0) (0.1.2)\n",
      "Requirement already satisfied: six>=1.5 in c:\\users\\diego\\anaconda3\\envs\\tmf_env\\lib\\site-packages (from python-dateutil>=2.8.1->pandas->titanic==0.1.0) (1.16.0)\n",
      "Requirement already satisfied: importlib-metadata>=3.6 in c:\\users\\diego\\anaconda3\\envs\\tmf_env\\lib\\site-packages (from typeguard>=3.0.2->pandera->titanic==0.1.0) (6.6.0)\n",
      "Requirement already satisfied: typing-extensions>=4.4.0 in c:\\users\\diego\\anaconda3\\envs\\tmf_env\\lib\\site-packages (from typeguard>=3.0.2->pandera->titanic==0.1.0) (4.6.2)\n",
      "Requirement already satisfied: mypy-extensions>=0.3.0 in c:\\users\\diego\\anaconda3\\envs\\tmf_env\\lib\\site-packages (from typing-inspect>=0.6.0->pandera->titanic==0.1.0) (1.0.0)\n",
      "Requirement already satisfied: zipp>=0.5 in c:\\users\\diego\\anaconda3\\envs\\tmf_env\\lib\\site-packages (from importlib-metadata>=3.6->typeguard>=3.0.2->pandera->titanic==0.1.0) (3.15.0)\n",
      "Building wheels for collected packages: titanic\n",
      "  Building wheel for titanic (pyproject.toml): started\n",
      "  Building wheel for titanic (pyproject.toml): finished with status 'done'\n",
      "  Created wheel for titanic: filename=titanic-0.1.0-py3-none-any.whl size=18009 sha256=0240f72b520fb42819e941529a6a1630d5cb18e338dcac92ffc19c43828cef68\n",
      "  Stored in directory: C:\\Users\\diego\\AppData\\Local\\Temp\\pip-ephem-wheel-cache-xud9lxvv\\wheels\\ce\\38\\9c\\226246269778f6ca770e7504f9e68887a904451270e3e1ff9e\n",
      "Successfully built titanic\n",
      "Installing collected packages: titanic\n",
      "  Attempting uninstall: titanic\n",
      "    Found existing installation: titanic 0.0.9\n",
      "    Uninstalling titanic-0.0.9:\n",
      "      Successfully uninstalled titanic-0.0.9\n",
      "Successfully installed titanic-0.1.0\n"
     ]
    },
    {
     "name": "stderr",
     "output_type": "stream",
     "text": [
      "WARNING: Ignoring invalid distribution -cipy (c:\\users\\diego\\anaconda3\\envs\\tmf_env\\lib\\site-packages)\n",
      "WARNING: Ignoring invalid distribution -cipy (c:\\users\\diego\\anaconda3\\envs\\tmf_env\\lib\\site-packages)\n",
      "WARNING: Ignoring invalid distribution -cipy (c:\\users\\diego\\anaconda3\\envs\\tmf_env\\lib\\site-packages)\n",
      "    WARNING: Ignoring invalid distribution -cipy (c:\\users\\diego\\anaconda3\\envs\\tmf_env\\lib\\site-packages)\n",
      "WARNING: Ignoring invalid distribution -cipy (c:\\users\\diego\\anaconda3\\envs\\tmf_env\\lib\\site-packages)\n",
      "WARNING: Ignoring invalid distribution -cipy (c:\\users\\diego\\anaconda3\\envs\\tmf_env\\lib\\site-packages)\n",
      "WARNING: Ignoring invalid distribution -cipy (c:\\users\\diego\\anaconda3\\envs\\tmf_env\\lib\\site-packages)\n",
      "WARNING: Ignoring invalid distribution -cipy (c:\\users\\diego\\anaconda3\\envs\\tmf_env\\lib\\site-packages)\n"
     ]
    }
   ],
   "source": [
    "!pip install ../titanicTraining"
   ]
  },
  {
   "attachments": {},
   "cell_type": "markdown",
   "metadata": {},
   "source": [
    "## Data"
   ]
  },
  {
   "cell_type": "code",
   "execution_count": 7,
   "metadata": {},
   "outputs": [
    {
     "data": {
      "text/html": [
       "<div>\n",
       "<style scoped>\n",
       "    .dataframe tbody tr th:only-of-type {\n",
       "        vertical-align: middle;\n",
       "    }\n",
       "\n",
       "    .dataframe tbody tr th {\n",
       "        vertical-align: top;\n",
       "    }\n",
       "\n",
       "    .dataframe thead th {\n",
       "        text-align: right;\n",
       "    }\n",
       "</style>\n",
       "<table border=\"1\" class=\"dataframe\">\n",
       "  <thead>\n",
       "    <tr style=\"text-align: right;\">\n",
       "      <th></th>\n",
       "      <th>PassengerId</th>\n",
       "      <th>Survived</th>\n",
       "      <th>Pclass</th>\n",
       "      <th>Name</th>\n",
       "      <th>Sex</th>\n",
       "      <th>Age</th>\n",
       "      <th>SibSp</th>\n",
       "      <th>Parch</th>\n",
       "      <th>Ticket</th>\n",
       "      <th>Fare</th>\n",
       "      <th>Cabin</th>\n",
       "      <th>Embarked</th>\n",
       "    </tr>\n",
       "  </thead>\n",
       "  <tbody>\n",
       "    <tr>\n",
       "      <th>0</th>\n",
       "      <td>1</td>\n",
       "      <td>0</td>\n",
       "      <td>3</td>\n",
       "      <td>Braund, Mr. Owen Harris</td>\n",
       "      <td>male</td>\n",
       "      <td>22.0</td>\n",
       "      <td>1</td>\n",
       "      <td>0</td>\n",
       "      <td>A/5 21171</td>\n",
       "      <td>7.2500</td>\n",
       "      <td>NaN</td>\n",
       "      <td>S</td>\n",
       "    </tr>\n",
       "    <tr>\n",
       "      <th>1</th>\n",
       "      <td>2</td>\n",
       "      <td>1</td>\n",
       "      <td>1</td>\n",
       "      <td>Cumings, Mrs. John Bradley (Florence Briggs Th...</td>\n",
       "      <td>female</td>\n",
       "      <td>38.0</td>\n",
       "      <td>1</td>\n",
       "      <td>0</td>\n",
       "      <td>PC 17599</td>\n",
       "      <td>71.2833</td>\n",
       "      <td>C85</td>\n",
       "      <td>C</td>\n",
       "    </tr>\n",
       "    <tr>\n",
       "      <th>2</th>\n",
       "      <td>3</td>\n",
       "      <td>1</td>\n",
       "      <td>3</td>\n",
       "      <td>Heikkinen, Miss. Laina</td>\n",
       "      <td>female</td>\n",
       "      <td>26.0</td>\n",
       "      <td>0</td>\n",
       "      <td>0</td>\n",
       "      <td>STON/O2. 3101282</td>\n",
       "      <td>7.9250</td>\n",
       "      <td>NaN</td>\n",
       "      <td>S</td>\n",
       "    </tr>\n",
       "    <tr>\n",
       "      <th>3</th>\n",
       "      <td>4</td>\n",
       "      <td>1</td>\n",
       "      <td>1</td>\n",
       "      <td>Futrelle, Mrs. Jacques Heath (Lily May Peel)</td>\n",
       "      <td>female</td>\n",
       "      <td>35.0</td>\n",
       "      <td>1</td>\n",
       "      <td>0</td>\n",
       "      <td>113803</td>\n",
       "      <td>53.1000</td>\n",
       "      <td>C123</td>\n",
       "      <td>S</td>\n",
       "    </tr>\n",
       "    <tr>\n",
       "      <th>4</th>\n",
       "      <td>5</td>\n",
       "      <td>0</td>\n",
       "      <td>3</td>\n",
       "      <td>Allen, Mr. William Henry</td>\n",
       "      <td>male</td>\n",
       "      <td>35.0</td>\n",
       "      <td>0</td>\n",
       "      <td>0</td>\n",
       "      <td>373450</td>\n",
       "      <td>8.0500</td>\n",
       "      <td>NaN</td>\n",
       "      <td>S</td>\n",
       "    </tr>\n",
       "    <tr>\n",
       "      <th>...</th>\n",
       "      <td>...</td>\n",
       "      <td>...</td>\n",
       "      <td>...</td>\n",
       "      <td>...</td>\n",
       "      <td>...</td>\n",
       "      <td>...</td>\n",
       "      <td>...</td>\n",
       "      <td>...</td>\n",
       "      <td>...</td>\n",
       "      <td>...</td>\n",
       "      <td>...</td>\n",
       "      <td>...</td>\n",
       "    </tr>\n",
       "    <tr>\n",
       "      <th>886</th>\n",
       "      <td>887</td>\n",
       "      <td>0</td>\n",
       "      <td>2</td>\n",
       "      <td>Montvila, Rev. Juozas</td>\n",
       "      <td>male</td>\n",
       "      <td>27.0</td>\n",
       "      <td>0</td>\n",
       "      <td>0</td>\n",
       "      <td>211536</td>\n",
       "      <td>13.0000</td>\n",
       "      <td>NaN</td>\n",
       "      <td>S</td>\n",
       "    </tr>\n",
       "    <tr>\n",
       "      <th>887</th>\n",
       "      <td>888</td>\n",
       "      <td>1</td>\n",
       "      <td>1</td>\n",
       "      <td>Graham, Miss. Margaret Edith</td>\n",
       "      <td>female</td>\n",
       "      <td>19.0</td>\n",
       "      <td>0</td>\n",
       "      <td>0</td>\n",
       "      <td>112053</td>\n",
       "      <td>30.0000</td>\n",
       "      <td>B42</td>\n",
       "      <td>S</td>\n",
       "    </tr>\n",
       "    <tr>\n",
       "      <th>888</th>\n",
       "      <td>889</td>\n",
       "      <td>0</td>\n",
       "      <td>3</td>\n",
       "      <td>Johnston, Miss. Catherine Helen \"Carrie\"</td>\n",
       "      <td>female</td>\n",
       "      <td>NaN</td>\n",
       "      <td>1</td>\n",
       "      <td>2</td>\n",
       "      <td>W./C. 6607</td>\n",
       "      <td>23.4500</td>\n",
       "      <td>NaN</td>\n",
       "      <td>S</td>\n",
       "    </tr>\n",
       "    <tr>\n",
       "      <th>889</th>\n",
       "      <td>890</td>\n",
       "      <td>1</td>\n",
       "      <td>1</td>\n",
       "      <td>Behr, Mr. Karl Howell</td>\n",
       "      <td>male</td>\n",
       "      <td>26.0</td>\n",
       "      <td>0</td>\n",
       "      <td>0</td>\n",
       "      <td>111369</td>\n",
       "      <td>30.0000</td>\n",
       "      <td>C148</td>\n",
       "      <td>C</td>\n",
       "    </tr>\n",
       "    <tr>\n",
       "      <th>890</th>\n",
       "      <td>891</td>\n",
       "      <td>0</td>\n",
       "      <td>3</td>\n",
       "      <td>Dooley, Mr. Patrick</td>\n",
       "      <td>male</td>\n",
       "      <td>32.0</td>\n",
       "      <td>0</td>\n",
       "      <td>0</td>\n",
       "      <td>370376</td>\n",
       "      <td>7.7500</td>\n",
       "      <td>NaN</td>\n",
       "      <td>Q</td>\n",
       "    </tr>\n",
       "  </tbody>\n",
       "</table>\n",
       "<p>891 rows × 12 columns</p>\n",
       "</div>"
      ],
      "text/plain": [
       "     PassengerId  Survived  Pclass  \\\n",
       "0              1         0       3   \n",
       "1              2         1       1   \n",
       "2              3         1       3   \n",
       "3              4         1       1   \n",
       "4              5         0       3   \n",
       "..           ...       ...     ...   \n",
       "886          887         0       2   \n",
       "887          888         1       1   \n",
       "888          889         0       3   \n",
       "889          890         1       1   \n",
       "890          891         0       3   \n",
       "\n",
       "                                                  Name     Sex   Age  SibSp  \\\n",
       "0                              Braund, Mr. Owen Harris    male  22.0      1   \n",
       "1    Cumings, Mrs. John Bradley (Florence Briggs Th...  female  38.0      1   \n",
       "2                               Heikkinen, Miss. Laina  female  26.0      0   \n",
       "3         Futrelle, Mrs. Jacques Heath (Lily May Peel)  female  35.0      1   \n",
       "4                             Allen, Mr. William Henry    male  35.0      0   \n",
       "..                                                 ...     ...   ...    ...   \n",
       "886                              Montvila, Rev. Juozas    male  27.0      0   \n",
       "887                       Graham, Miss. Margaret Edith  female  19.0      0   \n",
       "888           Johnston, Miss. Catherine Helen \"Carrie\"  female   NaN      1   \n",
       "889                              Behr, Mr. Karl Howell    male  26.0      0   \n",
       "890                                Dooley, Mr. Patrick    male  32.0      0   \n",
       "\n",
       "     Parch            Ticket     Fare Cabin Embarked  \n",
       "0        0         A/5 21171   7.2500   NaN        S  \n",
       "1        0          PC 17599  71.2833   C85        C  \n",
       "2        0  STON/O2. 3101282   7.9250   NaN        S  \n",
       "3        0            113803  53.1000  C123        S  \n",
       "4        0            373450   8.0500   NaN        S  \n",
       "..     ...               ...      ...   ...      ...  \n",
       "886      0            211536  13.0000   NaN        S  \n",
       "887      0            112053  30.0000   B42        S  \n",
       "888      2        W./C. 6607  23.4500   NaN        S  \n",
       "889      0            111369  30.0000  C148        C  \n",
       "890      0            370376   7.7500   NaN        Q  \n",
       "\n",
       "[891 rows x 12 columns]"
      ]
     },
     "execution_count": 7,
     "metadata": {},
     "output_type": "execute_result"
    }
   ],
   "source": [
    "import pandas as pd\n",
    "\n",
    "data = pd.read_csv('./data/train.csv')\n",
    "data"
   ]
  },
  {
   "attachments": {},
   "cell_type": "markdown",
   "metadata": {},
   "source": [
    "# Kfold Cross Validation"
   ]
  },
  {
   "cell_type": "code",
   "execution_count": 61,
   "metadata": {},
   "outputs": [],
   "source": [
    "from pipe import TitanicDataset, FeatureEnricher, DataCleaning, Trainer\n",
    "import os\n",
    "\n",
    "class ValidationPipe:\n",
    "    def __init__(self, train: pd.DataFrame, test: pd.DataFrame) -> None:\n",
    "        self.train = train\n",
    "        self.test = test \n",
    "\n",
    "        self.train_path = './data/temp_train.csv'\n",
    "        self.test_path = './data/temp_test.csv'\n",
    "        self.train.to_csv(self.train_path, index=False)\n",
    "        self.test.to_csv(self.test_path, index=False)\n",
    "        self.dataset = TitanicDataset(train_path=self.train_path, test_path=self.test_path)\n",
    "        self.train = self.dataset.train_data\n",
    "        self.test = self.dataset.test_data\n",
    "\n",
    "        self.cleaning = DataCleaning()\n",
    "        self.train = self.cleaning.fit_transform(self.train)\n",
    "        self.test = self.cleaning.transform(self.test)\n",
    "        self.enricher = FeatureEnricher()\n",
    "        self.train = self.enricher.fit_transform(self.train)\n",
    "        self.test = self.enricher.transform(self.test)\n",
    "        self.trainer = Trainer(criterion='gini', \n",
    "                             n_estimators=700,\n",
    "                             min_samples_split=10,\n",
    "                             min_samples_leaf=1,\n",
    "                             max_features='sqrt',\n",
    "                             oob_score=True,\n",
    "                             random_state=1,\n",
    "                             n_jobs=-1)\n",
    "        self.trainer.fit(self.train.iloc[:, 1:], self.train.iloc[:, 0])\n",
    "        self.close()\n",
    "    def close(self):\n",
    "        os.remove(self.train_path)\n",
    "        os.remove(self.test_path)\n",
    "        "
   ]
  },
  {
   "cell_type": "code",
   "execution_count": 68,
   "metadata": {},
   "outputs": [
    {
     "name": "stderr",
     "output_type": "stream",
     "text": [
      "100%|██████████| 14/14 [00:54<00:00,  3.90s/it]\n"
     ]
    }
   ],
   "source": [
    "from pipe import TrainModelPipeline\n",
    "from sklearn.model_selection import RepeatedKFold\n",
    "from tqdm import tqdm\n",
    "import warnings\n",
    "warnings.filterwarnings(\"ignore\")\n",
    "\n",
    "rkf = RepeatedKFold(n_splits=7, n_repeats=2, random_state=1)\n",
    "metrics = []\n",
    "for train, test in tqdm(rkf.split(data), total=7*2):\n",
    "    train_data, test_data_X, test_data_y = data.iloc[train, :], data.iloc[test, :], data.iloc[test, :]['Survived']\n",
    "    del test_data_X['Survived']\n",
    "    vp = ValidationPipe(train_data, test_data_X)\n",
    "    metrics_train = vp.trainer.evaluate(vp.train.iloc[:, 1:], vp.train.iloc[:, 0])\n",
    "    metrics_test = vp.trainer.evaluate(vp.test, test_data_y)\n",
    "    metrics.append({\"train\": metrics_train, \"test\": metrics_test})\n",
    "    "
   ]
  },
  {
   "attachments": {},
   "cell_type": "markdown",
   "metadata": {},
   "source": [
    "## Example Train Metric"
   ]
  },
  {
   "cell_type": "code",
   "execution_count": 69,
   "metadata": {},
   "outputs": [
    {
     "name": "stdout",
     "output_type": "stream",
     "text": [
      "              precision    recall  f1-score   support\n",
      "\n",
      "           0       0.80      0.92      0.86        78\n",
      "           1       0.84      0.64      0.73        50\n",
      "\n",
      "    accuracy                           0.81       128\n",
      "   macro avg       0.82      0.78      0.79       128\n",
      "weighted avg       0.82      0.81      0.81       128\n",
      "\n"
     ]
    }
   ],
   "source": [
    "print(metrics[0]['test'][1])"
   ]
  },
  {
   "cell_type": "code",
   "execution_count": 73,
   "metadata": {},
   "outputs": [
    {
     "data": {
      "text/plain": [
       "{'0': {'precision': 0.8,\n",
       "  'recall': 0.9230769230769231,\n",
       "  'f1-score': 0.8571428571428571,\n",
       "  'support': 78},\n",
       " '1': {'precision': 0.8421052631578947,\n",
       "  'recall': 0.64,\n",
       "  'f1-score': 0.7272727272727272,\n",
       "  'support': 50},\n",
       " 'accuracy': 0.8125,\n",
       " 'macro avg': {'precision': 0.8210526315789474,\n",
       "  'recall': 0.7815384615384615,\n",
       "  'f1-score': 0.7922077922077921,\n",
       "  'support': 128},\n",
       " 'weighted avg': {'precision': 0.8164473684210527,\n",
       "  'recall': 0.8125,\n",
       "  'f1-score': 0.8064123376623376,\n",
       "  'support': 128}}"
      ]
     },
     "execution_count": 73,
     "metadata": {},
     "output_type": "execute_result"
    }
   ],
   "source": [
    "metrics[0]['test'][0]"
   ]
  },
  {
   "attachments": {},
   "cell_type": "markdown",
   "metadata": {},
   "source": [
    "### Train metrics"
   ]
  },
  {
   "cell_type": "code",
   "execution_count": 75,
   "metadata": {},
   "outputs": [],
   "source": [
    "def get_metrics(metrics, key='train'):\n",
    "    acc = [m[key][0]['accuracy'] for m in metrics]\n",
    "    true_f1 = [m[key][0]['1']['f1-score'] for m in metrics]\n",
    "    false_f1 = [m[key][0]['0']['f1-score'] for m in metrics]\n",
    "    w_f1 = [m[key][0]['weighted avg']['f1-score'] for m in metrics]\n",
    "    return acc, true_f1, false_f1, w_f1"
   ]
  },
  {
   "cell_type": "code",
   "execution_count": 77,
   "metadata": {},
   "outputs": [],
   "source": [
    "train_acc, train_true_f1, train_false_f1, train_w_f1 = get_metrics(metrics, key='train')"
   ]
  },
  {
   "cell_type": "code",
   "execution_count": 85,
   "metadata": {},
   "outputs": [
    {
     "name": "stdout",
     "output_type": "stream",
     "text": [
      "Mean accuracy: 0.92. STD accuracy: 0.01\n",
      "Mean f1 true labels: 0.89. STD f1 true labels: 0.01\n",
      "Mean f1 false labels: 0.93. STD f1 false labels: 0.00\n",
      "Mean weighted f1: 0.92. STD weighted f1: 0.01\n"
     ]
    }
   ],
   "source": [
    "import numpy as np\n",
    "print(f'Mean accuracy: {np.mean(train_acc):.2f}. STD accuracy: {np.std(train_acc):.2f}')\n",
    "print(f'Mean f1 true labels: {np.mean(train_true_f1):.2f}. STD f1 true labels: {np.std(train_true_f1):.2f}')\n",
    "print(f'Mean f1 false labels: {np.mean(train_false_f1):.2f}. STD f1 false labels: {np.std(train_false_f1):.2f}')\n",
    "print(f'Mean weighted f1: {np.mean(train_w_f1):.2f}. STD weighted f1: {np.std(train_w_f1):.2f}')"
   ]
  },
  {
   "attachments": {},
   "cell_type": "markdown",
   "metadata": {},
   "source": [
    "#### Test metrics"
   ]
  },
  {
   "cell_type": "code",
   "execution_count": 86,
   "metadata": {},
   "outputs": [],
   "source": [
    "test_acc, test_true_f1, test_false_f1, test_w_f1 = get_metrics(metrics, key='test')"
   ]
  },
  {
   "cell_type": "code",
   "execution_count": 87,
   "metadata": {},
   "outputs": [
    {
     "name": "stdout",
     "output_type": "stream",
     "text": [
      "Mean accuracy: 0.83. STD accuracy: 0.03\n",
      "Mean f1 true labels: 0.76. STD f1 true labels: 0.04\n",
      "Mean f1 false labels: 0.87. STD f1 false labels: 0.03\n",
      "Mean weighted f1: 0.83. STD weighted f1: 0.03\n"
     ]
    }
   ],
   "source": [
    "import numpy as np\n",
    "print(f'Mean accuracy: {np.mean(test_acc):.2f}. STD accuracy: {np.std(test_acc):.2f}')\n",
    "print(f'Mean f1 true labels: {np.mean(test_true_f1):.2f}. STD f1 true labels: {np.std(test_true_f1):.2f}')\n",
    "print(f'Mean f1 false labels: {np.mean(test_false_f1):.2f}. STD f1 false labels: {np.std(test_false_f1):.2f}')\n",
    "print(f'Mean weighted f1: {np.mean(test_w_f1):.2f}. STD weighted f1: {np.std(test_w_f1):.2f}')"
   ]
  }
 ],
 "metadata": {
  "kernelspec": {
   "display_name": "tmf_env",
   "language": "python",
   "name": "python3"
  },
  "language_info": {
   "codemirror_mode": {
    "name": "ipython",
    "version": 3
   },
   "file_extension": ".py",
   "mimetype": "text/x-python",
   "name": "python",
   "nbconvert_exporter": "python",
   "pygments_lexer": "ipython3",
   "version": "3.9.15"
  },
  "orig_nbformat": 4
 },
 "nbformat": 4,
 "nbformat_minor": 2
}
